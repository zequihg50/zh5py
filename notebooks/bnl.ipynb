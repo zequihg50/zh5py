{
 "cells": [
  {
   "cell_type": "code",
   "execution_count": 1,
   "id": "fdcb272a-dfb7-4bc4-9012-f4a2612fe01a",
   "metadata": {},
   "outputs": [],
   "source": [
    "import h5py\n",
    "import h5netcdf\n",
    "import pyfive\n",
    "import zh5\n",
    "\n",
    "import fsspec\n",
    "import s3fs\n",
    "import psutil\n",
    "import time"
   ]
  },
  {
   "cell_type": "markdown",
   "id": "da898416-a5ab-40c6-a5dc-ba71442b5c15",
   "metadata": {},
   "source": [
    "# Some performance testing\n",
    "\n",
    "There a lot of cases and gritty details, they will be explained in the best possible way."
   ]
  },
  {
   "cell_type": "code",
   "execution_count": 2,
   "id": "8077dfdb-c71f-4f5e-9d2c-05ba0dc16022",
   "metadata": {},
   "outputs": [],
   "source": [
    "def measure(name, pack):\n",
    "    def decorator(func):\n",
    "        def wrap(self, *args, **kwargs):\n",
    "            start_net = psutil.net_io_counters()\n",
    "            start_time = time.time()\n",
    "            \n",
    "            result = func(self, *args, **kwargs)\n",
    "            \n",
    "            end_time = time.time()\n",
    "            end_net = psutil.net_io_counters()\n",
    "            \n",
    "            print({\n",
    "                \"package\": pack,\n",
    "                \"name\": name,\n",
    "                \"time\": end_time - start_time,\n",
    "                \"bytes_recv\": end_net.bytes_recv - start_net.bytes_recv,\n",
    "                \"bytes_sent\": end_net.bytes_sent - start_net.bytes_sent,\n",
    "                \"packets_recv\": end_net.packets_recv - start_net.packets_recv,\n",
    "                \"packets_sent\": end_net.packets_sent - start_net.packets_sent,\n",
    "                \"errin\": end_net.errin - start_net.errin,\n",
    "                \"errout\": end_net.errout - start_net.errout,\n",
    "                \"dropin\": end_net.dropin - start_net.dropin,\n",
    "                \"dropout\": end_net.dropout - start_net.dropout\n",
    "            })\n",
    "\n",
    "            return result  # Ensure wrapped method returns expected output\n",
    "\n",
    "        return wrap\n",
    "    return decorator\n",
    "\n",
    "class PerfTest:\n",
    "    def open(self, store, object):\n",
    "        raise NotImplementedError\n",
    "\n",
    "    def locate(self, f, vname):\n",
    "        v = f[vname]\n",
    "        return v\n",
    "\n",
    "    def load(self, v):\n",
    "        v[:].mean()\n",
    "\n",
    "class H5pyPerfTest(PerfTest):    \n",
    "    @measure(\"open\", \"h5py\")\n",
    "    def open(self, store, object):\n",
    "        fs = s3fs.S3FileSystem(anon=True, client_kwargs={\"endpoint_url\": store})\n",
    "        p = fs.open(object, \"rb\")\n",
    "        f = h5py.File(p)\n",
    "        return f\n",
    "\n",
    "    @measure(\"locate\", \"h5py\")\n",
    "    def locate(self, f, vname):\n",
    "        return super().locate(f, vname)\n",
    "\n",
    "    @measure(\"load\", \"h5py\")\n",
    "    def load(self, v):\n",
    "        super().load(v)\n",
    "\n",
    "class PyfivePerfTest(PerfTest):    \n",
    "    @measure(\"open\", \"h5py\")\n",
    "    def open(self, store, object):\n",
    "        fs = s3fs.S3FileSystem(anon=True, client_kwargs={\"endpoint_url\": store})\n",
    "        p = fs.open(object, \"rb\")\n",
    "        f = pyfive.File(p)\n",
    "        return f\n",
    "\n",
    "    @measure(\"locate\", \"pyfive\")\n",
    "    def locate(self, f, vname):\n",
    "        return super().locate(f, vname)\n",
    "\n",
    "    @measure(\"load\", \"pyfive\")\n",
    "    def load(self, v):\n",
    "        super().load(v)\n",
    "\n",
    "class Zh5PerfTest(PerfTest):    \n",
    "    @measure(\"open\", \"zh5\")\n",
    "    def open(self, store, object):\n",
    "        f = zh5.PagedFile(\"/\".join([store, object]))\n",
    "        return f\n",
    "\n",
    "    @measure(\"locate\", \"zh5\")\n",
    "    def locate(self, f, vname):\n",
    "        return super().locate(f, vname)\n",
    "\n",
    "    @measure(\"load\", \"zh5\")\n",
    "    def load(self, v):\n",
    "        super().load(v)"
   ]
  },
  {
   "cell_type": "markdown",
   "id": "e83ec239-1eec-4f72-abe0-b9ef59e84d0f",
   "metadata": {},
   "source": [
    "## Original file from UoR\n",
    "\n",
    "- `UM_m01s30i204_vn1106` is of shape `(2, 11, 1921, 2560)` and contiguous storage.\n",
    "- `UM_m01s16i202_vn1106` is of shape `(2, 1920, 2560)` and contiguous storage."
   ]
  },
  {
   "cell_type": "code",
   "execution_count": 3,
   "id": "900cb5ac-0d65-4b87-8b10-9b0d1e1e7c84",
   "metadata": {},
   "outputs": [],
   "source": [
    "store = \"https://uor-aces-o.s3-ext.jc.rl.ac.uk\"\n",
    "o = \"bnl/ch330a.pc19790301-def-short.nc\"  # original BNL file, contiguous storage\n",
    "vname = \"UM_m01s16i202_vn1106\""
   ]
  },
  {
   "cell_type": "markdown",
   "id": "04e1dccb-742f-41fa-ac81-1702eab9da02",
   "metadata": {},
   "source": [
    "### h5py"
   ]
  },
  {
   "cell_type": "code",
   "execution_count": 4,
   "id": "23fbc03f-63ff-45fd-9666-88c84b0c8c35",
   "metadata": {},
   "outputs": [
    {
     "name": "stdout",
     "output_type": "stream",
     "text": [
      "{'package': 'h5py', 'name': 'open', 'time': 3.180185079574585, 'bytes_recv': 55116774, 'bytes_sent': 126821, 'packets_recv': 39357, 'packets_sent': 1849, 'errin': 0, 'errout': 0, 'dropin': 0, 'dropout': 0}\n",
      "{'package': 'h5py', 'name': 'locate', 'time': 6.238452672958374, 'bytes_recv': 165355990, 'bytes_sent': 419098, 'packets_recv': 118183, 'packets_sent': 5597, 'errin': 0, 'errout': 0, 'dropin': 0, 'dropout': 0}\n",
      "{'package': 'h5py', 'name': 'load', 'time': 0.038481712341308594, 'bytes_recv': 60, 'bytes_sent': 66, 'packets_recv': 1, 'packets_sent': 1, 'errin': 0, 'errout': 0, 'dropin': 0, 'dropout': 0}\n"
     ]
    }
   ],
   "source": [
    "pt = H5pyPerfTest()\n",
    "f = pt.open(store, o)\n",
    "v = pt.locate(f, vname)\n",
    "pt.load(v)"
   ]
  },
  {
   "cell_type": "markdown",
   "id": "f7731b34-2d00-4f45-9ec6-14c426df5a62",
   "metadata": {},
   "source": [
    "### pyfive"
   ]
  },
  {
   "cell_type": "code",
   "execution_count": 5,
   "id": "eed72211-224b-411a-af19-0e0f6c2c9a60",
   "metadata": {},
   "outputs": [
    {
     "name": "stdout",
     "output_type": "stream",
     "text": [
      "{'package': 'h5py', 'name': 'open', 'time': 11.983564138412476, 'bytes_recv': 275601012, 'bytes_sent': 695565, 'packets_recv': 197002, 'packets_sent': 9594, 'errin': 0, 'errout': 0, 'dropin': 0, 'dropout': 0}\n",
      "{'package': 'pyfive', 'name': 'locate', 'time': 0.0007381439208984375, 'bytes_recv': 0, 'bytes_sent': 0, 'packets_recv': 0, 'packets_sent': 0, 'errin': 0, 'errout': 0, 'dropin': 0, 'dropout': 0}\n",
      "{'package': 'pyfive', 'name': 'load', 'time': 0.030376672744750977, 'bytes_recv': 993, 'bytes_sent': 132, 'packets_recv': 4, 'packets_sent': 2, 'errin': 0, 'errout': 0, 'dropin': 0, 'dropout': 0}\n"
     ]
    }
   ],
   "source": [
    "pt = PyfivePerfTest()\n",
    "f = pt.open(store, o)\n",
    "v = pt.locate(f, vname)\n",
    "pt.load(v)"
   ]
  },
  {
   "cell_type": "markdown",
   "id": "456818da-44e5-4ae2-a375-37a84138bb4d",
   "metadata": {},
   "source": [
    "### zh5"
   ]
  },
  {
   "cell_type": "code",
   "execution_count": 6,
   "id": "38b78404-7a5b-440c-87f0-4cf69daa3e83",
   "metadata": {},
   "outputs": [
    {
     "name": "stdout",
     "output_type": "stream",
     "text": [
      "{'package': 'zh5', 'name': 'open', 'time': 1.8937711715698242, 'bytes_recv': 85599, 'bytes_sent': 23456, 'packets_recv': 203, 'packets_sent': 155, 'errin': 0, 'errout': 0, 'dropin': 0, 'dropout': 0}\n",
      "{'package': 'zh5', 'name': 'locate', 'time': 0.9024507999420166, 'bytes_recv': 73030, 'bytes_sent': 14783, 'packets_recv': 128, 'packets_sent': 99, 'errin': 0, 'errout': 0, 'dropin': 0, 'dropout': 0}\n",
      "{'package': 'zh5', 'name': 'load', 'time': 2.2733941078186035, 'bytes_recv': 41387328, 'bytes_sent': 129105, 'packets_recv': 29567, 'packets_sent': 1842, 'errin': 0, 'errout': 0, 'dropin': 0, 'dropout': 0}\n"
     ]
    }
   ],
   "source": [
    "pt = Zh5PerfTest()\n",
    "f = pt.open(store, o)\n",
    "v = pt.locate(f, vname)\n",
    "pt.load(v)"
   ]
  },
  {
   "cell_type": "markdown",
   "id": "c8e47884-9df8-4216-b90f-88093b64c4a6",
   "metadata": {},
   "source": [
    "## Conclusions\n",
    "\n",
    "Although the time is distributed along different tasks, the overall times look pretty similar. It makes sense to me."
   ]
  },
  {
   "cell_type": "markdown",
   "id": "237eebeb-7837-4e49-9280-6ea1a73b552d",
   "metadata": {},
   "source": [
    "## Large and compressed chunks dataset and HDF5 file with pages\n",
    "\n",
    "I have repacked original BNL file so it is stored with compressed chunks.\n",
    "\n",
    "- `UM_m01s30i204_vn1106` is of shape `(2, 11, 1921, 2560)` and chunkshape `(1, 1, 1921, 2560)`.\n",
    "- `UM_m01s16i202_vn1106` is of shape `(2, 1920, 2560)` and chunkshape `(1, 1920, 2560)`.\n",
    "\n",
    "zh5 benefits from multithreaded chunk retrieval, this should be noticed for the variable with 22 chunks."
   ]
  },
  {
   "cell_type": "code",
   "execution_count": 7,
   "id": "a300d453-d37e-44dd-8de5-9464fc8b8bb5",
   "metadata": {},
   "outputs": [],
   "source": [
    "store = \"https://api.cloud.ifca.es:8080/swift/v1\"\n",
    "o = \"tests/ch330a.pc19790301-def-short-page.nc\"  # original BNL file that has been repacked with chunking and compression\n",
    "vname = \"UM_m01s30i204_vn1106\""
   ]
  },
  {
   "cell_type": "markdown",
   "id": "ed810a1d-bb40-431e-b93f-66e7b6dcc163",
   "metadata": {},
   "source": [
    "### h5py"
   ]
  },
  {
   "cell_type": "code",
   "execution_count": 8,
   "id": "3b918648-0fa5-4244-b8a7-31bc3b573c07",
   "metadata": {},
   "outputs": [
    {
     "name": "stdout",
     "output_type": "stream",
     "text": [
      "{'package': 'h5py', 'name': 'open', 'time': 7.025630950927734, 'bytes_recv': 55279379, 'bytes_sent': 276795, 'packets_recv': 40779, 'packets_sent': 3264, 'errin': 0, 'errout': 0, 'dropin': 0, 'dropout': 0}\n",
      "{'package': 'h5py', 'name': 'locate', 'time': 4.742404222488403, 'bytes_recv': 55408023, 'bytes_sent': 270487, 'packets_recv': 42201, 'packets_sent': 3349, 'errin': 0, 'errout': 0, 'dropin': 0, 'dropout': 0}\n",
      "{'package': 'h5py', 'name': 'load', 'time': 27.823221445083618, 'bytes_recv': 308564735, 'bytes_sent': 1306454, 'packets_recv': 233931, 'packets_sent': 18198, 'errin': 0, 'errout': 0, 'dropin': 0, 'dropout': 0}\n"
     ]
    }
   ],
   "source": [
    "pt = H5pyPerfTest()\n",
    "f = pt.open(store, o)\n",
    "v = pt.locate(f, vname)\n",
    "pt.load(v)"
   ]
  },
  {
   "cell_type": "markdown",
   "id": "ef38b212-5fab-4c2a-9f0b-ab24619dd98c",
   "metadata": {},
   "source": [
    "### pyfive"
   ]
  },
  {
   "cell_type": "code",
   "execution_count": 9,
   "id": "1b7f77c7-0bc5-4d8c-b32b-f4412df73c49",
   "metadata": {},
   "outputs": [
    {
     "name": "stdout",
     "output_type": "stream",
     "text": [
      "{'package': 'h5py', 'name': 'open', 'time': 16.48442578315735, 'bytes_recv': 166093142, 'bytes_sent': 768766, 'packets_recv': 126468, 'packets_sent': 9993, 'errin': 0, 'errout': 0, 'dropin': 0, 'dropout': 0}\n",
      "{'package': 'pyfive', 'name': 'locate', 'time': 14.42582631111145, 'bytes_recv': 165957431, 'bytes_sent': 719836, 'packets_recv': 125981, 'packets_sent': 9928, 'errin': 0, 'errout': 0, 'dropin': 0, 'dropout': 0}\n",
      "{'package': 'pyfive', 'name': 'load', 'time': 23.47941541671753, 'bytes_recv': 253241225, 'bytes_sent': 1221667, 'packets_recv': 190817, 'packets_sent': 15965, 'errin': 0, 'errout': 0, 'dropin': 0, 'dropout': 0}\n"
     ]
    }
   ],
   "source": [
    "pt = PyfivePerfTest()\n",
    "f = pt.open(store, o)\n",
    "v = pt.locate(f, vname)\n",
    "pt.load(v)"
   ]
  },
  {
   "cell_type": "markdown",
   "id": "61f919ff-818b-4cd0-a326-ed5a272ed021",
   "metadata": {},
   "source": [
    "### zh5"
   ]
  },
  {
   "cell_type": "code",
   "execution_count": 10,
   "id": "9d56176c-7810-432d-a3dc-cff9ae5c76ea",
   "metadata": {},
   "outputs": [
    {
     "name": "stdout",
     "output_type": "stream",
     "text": [
      "{'package': 'zh5', 'name': 'open', 'time': 2.454031229019165, 'bytes_recv': 189774, 'bytes_sent': 39806, 'packets_recv': 356, 'packets_sent': 293, 'errin': 0, 'errout': 0, 'dropin': 0, 'dropout': 0}\n",
      "{'package': 'zh5', 'name': 'locate', 'time': 1.5045194625854492, 'bytes_recv': 208780, 'bytes_sent': 84921, 'packets_recv': 506, 'packets_sent': 451, 'errin': 0, 'errout': 0, 'dropin': 0, 'dropout': 0}\n",
      "{'package': 'zh5', 'name': 'load', 'time': 6.828485727310181, 'bytes_recv': 278378961, 'bytes_sent': 3155474, 'packets_recv': 205357, 'packets_sent': 47351, 'errin': 0, 'errout': 0, 'dropin': 0, 'dropout': 0}\n"
     ]
    }
   ],
   "source": [
    "pt = Zh5PerfTest()\n",
    "f = pt.open(store, o)\n",
    "v = pt.locate(f, vname)\n",
    "pt.load(v)"
   ]
  },
  {
   "cell_type": "markdown",
   "id": "1736bb21-011f-49c3-a7dc-589cc330c122",
   "metadata": {},
   "source": [
    "## Conclusions\n",
    "\n",
    "Accessing the 22 chunk variable (`UM_m01s30i204_vn1106`) is much faster using multithreading in zh5 as expected."
   ]
  },
  {
   "cell_type": "markdown",
   "id": "1f24433e-d79e-49d0-83c2-a3e82973b148",
   "metadata": {},
   "source": [
    "## Small and compressed chunks dataset and HDF5 file with pages\n",
    "\n",
    "`UM_m01s16i202_vn1106` is of shape `(2, 1920, 2560)` and chunkshape `(1, 1920, 2560)`. Multithreaded chunking retrieval shouldn't be noticed."
   ]
  },
  {
   "cell_type": "code",
   "execution_count": 11,
   "id": "e81b2d38-4a6e-4a62-b01b-2ddca65297dc",
   "metadata": {},
   "outputs": [],
   "source": [
    "store = \"https://api.cloud.ifca.es:8080/swift/v1\"\n",
    "o = \"tests/ch330a.pc19790301-def-short-page.nc\"  # original BNL file that has been repacked with chunking and compression\n",
    "vname = \"UM_m01s16i202_vn1106\""
   ]
  },
  {
   "cell_type": "markdown",
   "id": "5ab2cd51-77e3-492b-b2df-14ca32ce655f",
   "metadata": {},
   "source": [
    "### h5py"
   ]
  },
  {
   "cell_type": "code",
   "execution_count": 12,
   "id": "8820c5f6-d905-440e-b90b-b09a073a0b7c",
   "metadata": {},
   "outputs": [
    {
     "name": "stdout",
     "output_type": "stream",
     "text": [
      "{'package': 'h5py', 'name': 'open', 'time': 4.430277347564697, 'bytes_recv': 55347877, 'bytes_sent': 275837, 'packets_recv': 42157, 'packets_sent': 3386, 'errin': 0, 'errout': 0, 'dropin': 0, 'dropout': 0}\n",
      "{'package': 'h5py', 'name': 'locate', 'time': 4.459393739700317, 'bytes_recv': 55285589, 'bytes_sent': 221158, 'packets_recv': 41533, 'packets_sent': 3278, 'errin': 0, 'errout': 0, 'dropin': 0, 'dropout': 0}\n",
      "{'package': 'h5py', 'name': 'load', 'time': 0.22082304954528809, 'bytes_recv': 3664, 'bytes_sent': 2719, 'packets_recv': 13, 'packets_sent': 8, 'errin': 0, 'errout': 0, 'dropin': 0, 'dropout': 0}\n"
     ]
    }
   ],
   "source": [
    "pt = H5pyPerfTest()\n",
    "f = pt.open(store, o)\n",
    "v = pt.locate(f, vname)\n",
    "pt.load(v)"
   ]
  },
  {
   "cell_type": "markdown",
   "id": "42fad733-696e-4eee-8b18-2305fefb6618",
   "metadata": {},
   "source": [
    "### pyfive"
   ]
  },
  {
   "cell_type": "code",
   "execution_count": 13,
   "id": "0a3d8f7e-b5c4-4c3c-a04f-a6475f0711b1",
   "metadata": {},
   "outputs": [
    {
     "name": "stdout",
     "output_type": "stream",
     "text": [
      "{'package': 'h5py', 'name': 'open', 'time': 12.932042360305786, 'bytes_recv': 165984407, 'bytes_sent': 712348, 'packets_recv': 126006, 'packets_sent': 9750, 'errin': 0, 'errout': 0, 'dropin': 0, 'dropout': 0}\n",
      "{'package': 'pyfive', 'name': 'locate', 'time': 17.123637676239014, 'bytes_recv': 221281933, 'bytes_sent': 1026521, 'packets_recv': 167802, 'packets_sent': 13334, 'errin': 0, 'errout': 0, 'dropin': 0, 'dropout': 0}\n",
      "{'package': 'pyfive', 'name': 'load', 'time': 0.22912120819091797, 'bytes_recv': 2718, 'bytes_sent': 2554, 'packets_recv': 8, 'packets_sent': 6, 'errin': 0, 'errout': 0, 'dropin': 0, 'dropout': 0}\n"
     ]
    }
   ],
   "source": [
    "pt = PyfivePerfTest()\n",
    "f = pt.open(store, o)\n",
    "v = pt.locate(f, vname)\n",
    "pt.load(v)"
   ]
  },
  {
   "cell_type": "markdown",
   "id": "dda3da09-465b-4fc3-ab54-bbf90e21210b",
   "metadata": {},
   "source": [
    "### zh5"
   ]
  },
  {
   "cell_type": "code",
   "execution_count": 14,
   "id": "d9fa0db3-a000-457c-842b-1b5e08ed9262",
   "metadata": {},
   "outputs": [
    {
     "name": "stdout",
     "output_type": "stream",
     "text": [
      "{'package': 'zh5', 'name': 'open', 'time': 2.3845694065093994, 'bytes_recv': 190747, 'bytes_sent': 47093, 'packets_recv': 393, 'packets_sent': 309, 'errin': 0, 'errout': 0, 'dropin': 0, 'dropout': 0}\n",
      "{'package': 'zh5', 'name': 'locate', 'time': 1.1284563541412354, 'bytes_recv': 132211, 'bytes_sent': 20269, 'packets_recv': 233, 'packets_sent': 161, 'errin': 0, 'errout': 0, 'dropin': 0, 'dropout': 0}\n",
      "{'package': 'zh5', 'name': 'load', 'time': 3.391122341156006, 'bytes_recv': 25918632, 'bytes_sent': 284854, 'packets_recv': 18806, 'packets_sent': 3547, 'errin': 0, 'errout': 0, 'dropin': 0, 'dropout': 0}\n"
     ]
    }
   ],
   "source": [
    "pt = Zh5PerfTest()\n",
    "f = pt.open(store, o)\n",
    "v = pt.locate(f, vname)\n",
    "pt.load(v)"
   ]
  },
  {
   "cell_type": "markdown",
   "id": "af005152-bff9-4553-a731-33065e46bab0",
   "metadata": {},
   "source": [
    "## Conclusions\n",
    "\n",
    "`UM_m01s16i202_vn1106` only has two chunks. It seems something weird is happening with pyfive (although I may have not installed the proper branch). It looks like in general pyfive does a lot of \"prefetching\", maybe this is taking some extra time."
   ]
  }
 ],
 "metadata": {
  "kernelspec": {
   "display_name": "Python 3 (ipykernel)",
   "language": "python",
   "name": "python3"
  },
  "language_info": {
   "codemirror_mode": {
    "name": "ipython",
    "version": 3
   },
   "file_extension": ".py",
   "mimetype": "text/x-python",
   "name": "python",
   "nbconvert_exporter": "python",
   "pygments_lexer": "ipython3",
   "version": "3.10.13"
  }
 },
 "nbformat": 4,
 "nbformat_minor": 5
}
